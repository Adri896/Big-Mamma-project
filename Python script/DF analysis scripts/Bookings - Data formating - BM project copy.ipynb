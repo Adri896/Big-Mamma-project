{
 "cells": [
  {
   "cell_type": "code",
   "execution_count": 1,
   "metadata": {},
   "outputs": [],
   "source": [
    "import pandas as pd\n",
    "import django\n",
    "from datetime import datetime, timedelta"
   ]
  },
  {
   "cell_type": "markdown",
   "metadata": {},
   "source": [
    "Extracting data and loading into DF"
   ]
  },
  {
   "cell_type": "code",
   "execution_count": 2,
   "metadata": {},
   "outputs": [],
   "source": [
    "# orders=pd.read_csv(\"orders_BMEngland_202109.csv\",low_memory=False)\n",
    "bookings=pd.read_csv(\"C:/Users/bermo/OneDrive/Bureau/Le Wagon - cours/Big Mamma project/Raw tables/bookings_BMEngland_202109_today.csv\",low_memory=False)\n",
    "# items202109=pd.read_csv(\"item_BMEngland_202109_to_202112.csv\",low_memory=False)\n",
    "# items202201=pd.read_csv(\"items_BMEngland_202201_to_202206.csv\",low_memory=False)\n",
    "# items202207=pd.read_csv(\"items_BMEngland_202207_to_202212.csv\",low_memory=False)\n",
    "# items202301=pd.read_csv(\"items_BMEngland_202301_to_202306.csv\",low_memory=False)\n",
    "# items202307=pd.read_csv(\"items_BMEngland_202307_to_202310.csv\",low_memory=False)\n",
    "# clients1=pd.read_csv(\"clients_1_2.csv\",low_memory=False)\n",
    "# clients2=pd.read_csv(\"clients_2_2.csv\",low_memory=False)\n",
    "pd.set_option('display.max_columns', None)"
   ]
  },
  {
   "cell_type": "markdown",
   "metadata": {},
   "source": [
    "Exploring DF : dtypes, null values...."
   ]
  },
  {
   "cell_type": "code",
   "execution_count": 10,
   "metadata": {},
   "outputs": [
    {
     "data": {
      "text/plain": [
       "854832"
      ]
     },
     "execution_count": 10,
     "metadata": {},
     "output_type": "execute_result"
    }
   ],
   "source": [
    "bookings['notes'].isnull().sum()"
   ]
  },
  {
   "cell_type": "code",
   "execution_count": 4,
   "metadata": {},
   "outputs": [
    {
     "data": {
      "text/plain": [
       "id                               0\n",
       "date                             0\n",
       "status_simple                    0\n",
       "status_display                4004\n",
       "arrival_time                     6\n",
       "shift_category                 244\n",
       "seated_time                  45118\n",
       "updated                          0\n",
       "notes                       854832\n",
       "total_payment                    7\n",
       "ticket_id                   465422\n",
       "venue_group_client_id            2\n",
       "venue_group_id                   0\n",
       "venue_id                         0\n",
       "access_persistent_id        192338\n",
       "duration                         0\n",
       "mf_ratio_female            1112052\n",
       "mf_ratio_male              1112052\n",
       "max_guests                       0\n",
       "created                       4004\n",
       "send_reminder_email           4004\n",
       "send_reminder_sms             4004\n",
       "status                        4004\n",
       "venue_seating_area_name     209261\n",
       "site_id                          0\n",
       "entity_nepting             1147038\n",
       "entity_stripe               145543\n",
       "zendesk_id                 1147038\n",
       "zendesk_entity             1147038\n",
       "entity_sdworx              1147038\n",
       "deliverect_id               496795\n",
       "entity_sevenrooms                0\n",
       "entity_glide                     0\n",
       "entity_budget                    0\n",
       "malou_id                   1147038\n",
       "sunday_id                        0\n",
       "bobdesk_id                 1147038\n",
       "site_name                        0\n",
       "country                          0\n",
       "city                             0\n",
       "business_unit                    0\n",
       "reporting_unit                   0\n",
       "site_type                        0\n",
       "brand                            0\n",
       "timezone                         0\n",
       "opening_date                     0\n",
       "soft_opening_date                0\n",
       "zone                             0\n",
       "booked_by                        0\n",
       "first_name                  133618\n",
       "last_name                   158084\n",
       "email                       172698\n",
       "phone_number                154207\n",
       "dtype: int64"
      ]
     },
     "execution_count": 4,
     "metadata": {},
     "output_type": "execute_result"
    }
   ],
   "source": [
    "bookings.isnull().sum()\n"
   ]
  },
  {
   "cell_type": "code",
   "execution_count": 5,
   "metadata": {},
   "outputs": [
    {
     "name": "stdout",
     "output_type": "stream",
     "text": [
      "<class 'pandas.core.frame.DataFrame'>\n",
      "RangeIndex: 1147038 entries, 0 to 1147037\n",
      "Data columns (total 53 columns):\n",
      " #   Column                   Non-Null Count    Dtype  \n",
      "---  ------                   --------------    -----  \n",
      " 0   id                       1147038 non-null  object \n",
      " 1   date                     1147038 non-null  object \n",
      " 2   status_simple            1147038 non-null  object \n",
      " 3   status_display           1143034 non-null  object \n",
      " 4   arrival_time             1147032 non-null  object \n",
      " 5   shift_category           1146794 non-null  object \n",
      " 6   seated_time              1101920 non-null  object \n",
      " 7   updated                  1147038 non-null  object \n",
      " 8   notes                    292206 non-null   object \n",
      " 9   total_payment            1147031 non-null  float64\n",
      " 10  ticket_id                681616 non-null   object \n",
      " 11  venue_group_client_id    1147036 non-null  object \n",
      " 12  venue_group_id           1147038 non-null  object \n",
      " 13  venue_id                 1147038 non-null  object \n",
      " 14  access_persistent_id     954700 non-null   object \n",
      " 15  duration                 1147038 non-null  int64  \n",
      " 16  mf_ratio_female          34986 non-null    float64\n",
      " 17  mf_ratio_male            34986 non-null    float64\n",
      " 18  max_guests               1147038 non-null  int64  \n",
      " 19  created                  1143034 non-null  object \n",
      " 20  send_reminder_email      1143034 non-null  object \n",
      " 21  send_reminder_sms        1143034 non-null  object \n",
      " 22  status                   1143034 non-null  object \n",
      " 23  venue_seating_area_name  937777 non-null   object \n",
      " 24  site_id                  1147038 non-null  int64  \n",
      " 25  entity_nepting           0 non-null        float64\n",
      " 26  entity_stripe            1001495 non-null  object \n",
      " 27  zendesk_id               0 non-null        float64\n",
      " 28  zendesk_entity           0 non-null        float64\n",
      " 29  entity_sdworx            0 non-null        float64\n",
      " 30  deliverect_id            650243 non-null   object \n",
      " 31  entity_sevenrooms        1147038 non-null  object \n",
      " 32  entity_glide             1147038 non-null  object \n",
      " 33  entity_budget            1147038 non-null  object \n",
      " 34  malou_id                 0 non-null        float64\n",
      " 35  sunday_id                1147038 non-null  object \n",
      " 36  bobdesk_id               0 non-null        float64\n",
      " 37  site_name                1147038 non-null  object \n",
      " 38  country                  1147038 non-null  object \n",
      " 39  city                     1147038 non-null  object \n",
      " 40  business_unit            1147038 non-null  object \n",
      " 41  reporting_unit           1147038 non-null  object \n",
      " 42  site_type                1147038 non-null  object \n",
      " 43  brand                    1147038 non-null  object \n",
      " 44  timezone                 1147038 non-null  object \n",
      " 45  opening_date             1147038 non-null  object \n",
      " 46  soft_opening_date        1147038 non-null  object \n",
      " 47  zone                     1147038 non-null  object \n",
      " 48  booked_by                1147038 non-null  object \n",
      " 49  first_name               1013420 non-null  object \n",
      " 50  last_name                988954 non-null   object \n",
      " 51  email                    974340 non-null   object \n",
      " 52  phone_number             992831 non-null   object \n",
      "dtypes: float64(9), int64(3), object(41)\n",
      "memory usage: 463.8+ MB\n"
     ]
    }
   ],
   "source": [
    "bookings.info()"
   ]
  },
  {
   "cell_type": "markdown",
   "metadata": {},
   "source": [
    "Datetime and UTC transformation"
   ]
  },
  {
   "cell_type": "code",
   "execution_count": 6,
   "metadata": {},
   "outputs": [],
   "source": [
    "#Cast data to datetime\n",
    "bookings[['date','arrival_time','seated_time','updated','created','opening_date','soft_opening_date']]=bookings[['date','arrival_time','seated_time','updated','created','opening_date','soft_opening_date']].apply(pd.to_datetime,format=\"mixed\")  \n"
   ]
  },
  {
   "cell_type": "code",
   "execution_count": 7,
   "metadata": {},
   "outputs": [],
   "source": [
    "#Remove UTC\n",
    "bookings['seated_time']=bookings['seated_time'].dt.tz_localize(None)\n",
    "bookings['updated']=bookings['updated'].dt.tz_localize(None)\n",
    "bookings['created']=bookings['created'].dt.tz_localize(None)\n"
   ]
  },
  {
   "cell_type": "code",
   "execution_count": 11,
   "metadata": {},
   "outputs": [],
   "source": [
    "#Dropping notes  columns causing too many errors on BG import\n",
    "bookings.drop(columns=\"notes\", inplace=True)"
   ]
  },
  {
   "cell_type": "markdown",
   "metadata": {},
   "source": [
    "Export to CSV"
   ]
  },
  {
   "cell_type": "code",
   "execution_count": 14,
   "metadata": {},
   "outputs": [],
   "source": [
    "bookings.to_csv('bookings_formatted.csv',index=False)  "
   ]
  }
 ],
 "metadata": {
  "kernelspec": {
   "display_name": "Python 3",
   "language": "python",
   "name": "python3"
  },
  "language_info": {
   "codemirror_mode": {
    "name": "ipython",
    "version": 3
   },
   "file_extension": ".py",
   "mimetype": "text/x-python",
   "name": "python",
   "nbconvert_exporter": "python",
   "pygments_lexer": "ipython3",
   "version": "3.12.0"
  }
 },
 "nbformat": 4,
 "nbformat_minor": 2
}
